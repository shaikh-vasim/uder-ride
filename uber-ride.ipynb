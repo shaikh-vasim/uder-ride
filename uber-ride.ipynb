{
 "cells": [
  {
   "cell_type": "markdown",
   "metadata": {},
   "source": [
    "# uber-ride prediction"
   ]
  },
  {
   "cell_type": "code",
   "execution_count": 1,
   "metadata": {},
   "outputs": [],
   "source": [
    "import pandas as pd \n",
    "import numpy as np \n",
    "import matplotlib.pyplot as plt\n",
    "import seaborn as sns \n",
    "from sklearn.model_selection import train_test_split\n",
    "from sklearn.linear_model import LinearRegression\n",
    "from sklearn.metrics import mean_squared_error\n",
    "from sklearn.ensemble import RandomForestRegressor"
   ]
  },
  {
   "cell_type": "code",
   "execution_count": 2,
   "metadata": {},
   "outputs": [],
   "source": [
    "data=pd.read_csv(\"taxi.csv\")\n"
   ]
  },
  {
   "cell_type": "code",
   "execution_count": 3,
   "metadata": {},
   "outputs": [
    {
     "name": "stdout",
     "output_type": "stream",
     "text": [
      "<class 'pandas.core.frame.DataFrame'>\n",
      "RangeIndex: 27 entries, 0 to 26\n",
      "Data columns (total 5 columns):\n",
      " #   Column                  Non-Null Count  Dtype\n",
      "---  ------                  --------------  -----\n",
      " 0   Priceperweek            27 non-null     int64\n",
      " 1   Population              27 non-null     int64\n",
      " 2   Monthlyincome           27 non-null     int64\n",
      " 3   Averageparkingpermonth  27 non-null     int64\n",
      " 4   Numberofweeklyriders    27 non-null     int64\n",
      "dtypes: int64(5)\n",
      "memory usage: 1.1 KB\n"
     ]
    }
   ],
   "source": [
    "data.info()"
   ]
  },
  {
   "cell_type": "code",
   "execution_count": 4,
   "metadata": {},
   "outputs": [
    {
     "data": {
      "text/plain": [
       "(27, 4)"
      ]
     },
     "execution_count": 4,
     "metadata": {},
     "output_type": "execute_result"
    }
   ],
   "source": [
    "featurs=['Priceperweek', 'Population', 'Monthlyincome', 'Averageparkingpermonth']\n",
    "\n",
    "x=data[featurs]\n",
    "y=data['Numberofweeklyriders']\n",
    "x.shape"
   ]
  },
  {
   "cell_type": "code",
   "execution_count": 5,
   "metadata": {},
   "outputs": [
    {
     "name": "stdout",
     "output_type": "stream",
     "text": [
      "The x_train data shape (18, 4)\n",
      "The x_test data shape (9, 4)\n",
      "The y_train data shape (18,)\n",
      "The y_test data shape (9,)\n"
     ]
    }
   ],
   "source": [
    "x_train,x_test,y_train,y_test=train_test_split(x,y,test_size=0.3,random_state=42)\n",
    "print(\"The x_train data shape\",x_train.shape)\n",
    "print(\"The x_test data shape\",x_test.shape)\n",
    "print(\"The y_train data shape\",y_train.shape)\n",
    "print(\"The y_test data shape\",y_test.shape)"
   ]
  },
  {
   "cell_type": "code",
   "execution_count": 6,
   "metadata": {},
   "outputs": [
    {
     "data": {
      "text/plain": [
       "LinearRegression()"
      ]
     },
     "execution_count": 6,
     "metadata": {},
     "output_type": "execute_result"
    }
   ],
   "source": [
    "lin=LinearRegression()\n",
    "lin.fit(x_train,y_train)"
   ]
  },
  {
   "cell_type": "code",
   "execution_count": 7,
   "metadata": {},
   "outputs": [
    {
     "name": "stdout",
     "output_type": "stream",
     "text": [
      "0.9417338017926281\n"
     ]
    }
   ],
   "source": [
    "lin.score(x_test,y_test)\n",
    "print(lin.score(x_test,y_test))"
   ]
  },
  {
   "cell_type": "code",
   "execution_count": 8,
   "metadata": {},
   "outputs": [],
   "source": [
    "# mse=mean_squared_error(y_test,pred)\n",
    "# rmse=np.sqrt(mse)\n",
    "# print('mse',mse)\n",
    "\n",
    "\n",
    "# print('rmse',rmse)"
   ]
  },
  {
   "cell_type": "code",
   "execution_count": 9,
   "metadata": {},
   "outputs": [],
   "source": [
    "import joblib\n",
    "\n",
    "joblib.dump(lin, 'uber-ride-model-save')\n",
    "\n",
    "model2 = joblib.load('uber-ride-model-save')\n"
   ]
  },
  {
   "cell_type": "code",
   "execution_count": 11,
   "metadata": {},
   "outputs": [
    {
     "name": "stdout",
     "output_type": "stream",
     "text": [
      "Enter the Price per week :=1515\n",
      "Enter the Population :=155\n",
      "Enter the Monthly income :=15\n",
      "Enter the Average parking per month :=15\n",
      "the uber has coverd [-940169.82] ride in months\n"
     ]
    }
   ],
   "source": [
    "Priceperweek1= int(input('Enter the Price per week :='))\n",
    "Population1 = int(input('Enter the Population :='))\n",
    "Monthlyincome1= int(input('Enter the Monthly income :='))\n",
    "Averageparkingpermonth1 =int(input('Enter the Average parking per month :='))\n",
    "\n",
    "price = pd.DataFrame({'Priceperweek':[Priceperweek1], \n",
    "      'Population':[Population1],\n",
    "         'Monthlyincome':[Monthlyincome1], \n",
    "         'Averageparkingpermonth':[Averageparkingpermonth1]\n",
    "        })\n",
    "\n",
    "# 15\t1800000\t5800\t50\t192000\n",
    "\n",
    "\n",
    "pred = model2.predict((price)).round(2)\n",
    "print(f\"the uber has coverd {pred} ride in months\")"
   ]
  },
  {
   "cell_type": "code",
   "execution_count": null,
   "metadata": {},
   "outputs": [],
   "source": [
    "a=input(\"Enter Hour:\")\n",
    "b=input(\"Eenter Rate per Hour:\")\n",
    "pay=float(a)*float(b)\n",
    "\n",
    "print(\"Pay:\", pay)\n",
    "\n"
   ]
  }
 ],
 "metadata": {
  "kernelspec": {
   "display_name": "Python 3",
   "language": "python",
   "name": "python3"
  },
  "language_info": {
   "codemirror_mode": {
    "name": "ipython",
    "version": 3
   },
   "file_extension": ".py",
   "mimetype": "text/x-python",
   "name": "python",
   "nbconvert_exporter": "python",
   "pygments_lexer": "ipython3",
   "version": "3.8.3"
  }
 },
 "nbformat": 4,
 "nbformat_minor": 4
}
